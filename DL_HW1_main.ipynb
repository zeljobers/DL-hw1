{
  "nbformat": 4,
  "nbformat_minor": 0,
  "metadata": {
    "colab": {
      "provenance": [],
      "gpuType": "T4",
      "authorship_tag": "ABX9TyOezpZ0HKBsJdoDHwd+fc0K",
      "include_colab_link": true
    },
    "kernelspec": {
      "name": "python3",
      "display_name": "Python 3"
    },
    "language_info": {
      "name": "python"
    },
    "accelerator": "GPU"
  },
  "cells": [
    {
      "cell_type": "markdown",
      "metadata": {
        "id": "view-in-github",
        "colab_type": "text"
      },
      "source": [
        "<a href=\"https://colab.research.google.com/github/zeljobers/DL-hw1/blob/main/DL_HW1_main.ipynb\" target=\"_parent\"><img src=\"https://colab.research.google.com/assets/colab-badge.svg\" alt=\"Open In Colab\"/></a>"
      ]
    },
    {
      "cell_type": "code",
      "execution_count": 2,
      "metadata": {
        "id": "r4bhqka3o1fH"
      },
      "outputs": [],
      "source": [
        "# https://www.kaggle.com/datasets/mirichoi0218/insurance\n",
        "import pandas as pd\n",
        "import numpy as np\n",
        "import tensorflow as tf\n",
        "import matplotlib.pyplot as plt\n",
        "\n",
        "pd.options.mode.chained_assignment = None\n",
        "\n",
        "dataframe = pd.read_csv('./insurance.csv')\n",
        "train_df = dataframe\n",
        "train_df\n",
        "dataframe = dataframe.reindex(np.random.permutation(dataframe.index))\n",
        "# np.unique(dataframe[dataframe.columns[1]])\n",
        "test_dataframe = pd.read_csv('./insurance.csv')\n",
        "test_df = test_dataframe"
      ]
    },
    {
      "cell_type": "code",
      "source": [
        "\n",
        "# https://www.tensorflow.org/api_docs/python/tf/dtypes\n",
        "inputs = {\n",
        "    'age':\n",
        "        tf.keras.layers.Input(shape=(1,), dtype=tf.uint8,\n",
        "                              name='age'),\n",
        "    'sex':\n",
        "        tf.keras.layers.Input(shape=(1,), dtype=tf.string,\n",
        "                              name='sex'),\n",
        "    'bmi':\n",
        "        tf.keras.layers.Input(shape=(1,), dtype=tf.float32,\n",
        "                              name='bmi'),\n",
        "    'children':\n",
        "        tf.keras.layers.Input(shape=(1,), dtype=tf.uint8,\n",
        "                              name='children'),\n",
        "    'smoker':\n",
        "        tf.keras.layers.Input(shape=(1,), dtype=tf.string,\n",
        "                              name='smoker'),\n",
        "    'region':\n",
        "        tf.keras.layers.Input(shape=(1,), dtype=tf.string,\n",
        "                              name='region')\n",
        "}\n",
        "\n",
        "age = tf.keras.layers.Normalization(\n",
        "    name='normalization_age',\n",
        "    axis=None)\n",
        "age.adapt(dataframe['age'])\n",
        "age = age(inputs.get('age'))\n",
        "age = tf.keras.layers.Discretization() (age)\n",
        "\n",
        "\n",
        "sex = tf.keras.layers.TextVectorization(output_mode='multi_hot')\n",
        "sex.adapt(dataframe['sex'])\n",
        "sex = sex(inputs.get('sex'))\n",
        "sex = tf.keras.layers.Discretization() (sex)\n",
        "\n",
        "bmi = tf.keras.layers.Normalization(\n",
        "    name='normalization_bmi',\n",
        "    axis=None)\n",
        "bmi.adapt(dataframe['bmi'])\n",
        "bmi = bmi(inputs.get('bmi'))\n",
        "bmi = tf.keras.layers.Discretization() (bmi)\n",
        "\n",
        "children = tf.keras.layers.Normalization(\n",
        "    name='normalization_children',\n",
        "    axis=None)\n",
        "children.adapt(dataframe['children'])\n",
        "children = children(inputs.get('children'))\n",
        "children = tf.keras.layers.Discretization() (children)\n",
        "\n",
        "smoker = tf.keras.layers.TextVectorization(output_mode='multi_hot')\n",
        "smoker.adapt(dataframe['smoker'])\n",
        "smoker = smoker(inputs.get('smoker'))\n",
        "smoker = tf.keras.layers.Discretization() (smoker)\n",
        "\n",
        "region = tf.keras.layers.TextVectorization(output_mode='multi_hot')\n",
        "region.adapt(dataframe['region'])\n",
        "region = region(inputs.get('region'))\n",
        "region = tf.keras.layers.Discretization() (region)\n",
        "\n",
        "preprocessing_layers = tf.keras.layers.Concatenate()(\n",
        "    [age, sex, bmi, children, smoker, region])\n"
      ],
      "metadata": {
        "id": "IOtMw7kezHFo"
      },
      "execution_count": 3,
      "outputs": []
    },
    {
      "cell_type": "code",
      "source": [
        "#@title Define the plotting function.\n",
        "\n",
        "def plot_the_loss_curve(epochs, mse_training, mse_validation):\n",
        "  \"\"\"Plot a curve of loss vs. epoch.\"\"\"\n",
        "\n",
        "  plt.figure()\n",
        "  plt.title(\"Loss\")\n",
        "  plt.xlabel(\"Epoch\")\n",
        "  plt.ylabel(\"Mean Squared Error\")\n",
        "\n",
        "  plt.plot(epochs, mse_training, label=\"Training Loss\")\n",
        "  plt.plot(epochs, mse_validation, label=\"Validation Loss\")\n",
        "\n",
        "  # mse_training is a pandas Series, so convert it to a list first.\n",
        "  merged_mse_lists = mse_training.tolist() + mse_validation\n",
        "  highest_loss = max(merged_mse_lists)\n",
        "  lowest_loss = min(merged_mse_lists)\n",
        "  top_of_y_axis = highest_loss * 1.03\n",
        "  bottom_of_y_axis = lowest_loss * 0.97\n",
        "\n",
        "  plt.ylim([bottom_of_y_axis, top_of_y_axis])\n",
        "  plt.legend()\n",
        "  plt.show()\n",
        "\n",
        "print(\"Defined the plot_the_loss_curve function.\")"
      ],
      "metadata": {
        "colab": {
          "base_uri": "https://localhost:8080/"
        },
        "id": "wnseJYw6gwrE",
        "outputId": "ca62c411-609d-4830-8f8b-b83ec372e1ef"
      },
      "execution_count": 4,
      "outputs": [
        {
          "output_type": "stream",
          "name": "stdout",
          "text": [
            "Defined the plot_the_loss_curve function.\n"
          ]
        }
      ]
    },
    {
      "cell_type": "code",
      "source": [
        "#@title Define functions to create and train a linear regression model\n",
        "def create_model(my_inputs, my_outputs, my_learning_rate):\n",
        "  \"\"\"Create and compile a simple linear regression model.\"\"\"\n",
        "  model = tf.keras.Model(inputs=my_inputs, outputs=my_outputs)\n",
        "\n",
        "  # Construct the layers into a model that TensorFlow can execute.\n",
        "  model.compile(optimizer=tf.keras.optimizers.Adam(\n",
        "      learning_rate=my_learning_rate),\n",
        "      loss=\"mean_squared_error\",\n",
        "      metrics=[tf.keras.metrics.MeanSquaredError()])\n",
        "\n",
        "  return model\n",
        "\n",
        "\n",
        "def train_model(model, dataset, epochs, batch_size, label_name, validation_split=0.1):\n",
        "  \"\"\"Feed a dataset into the model in order to train it.\"\"\"\n",
        "\n",
        "  # Split the dataset into features and label.\n",
        "  features = {name:np.array(value) for name, value in dataset.items()}\n",
        "  label = train_charges_normalized(\n",
        "      np.array(features.pop(label_name)))\n",
        "  history = model.fit(x=features, y=label, batch_size=batch_size,\n",
        "                      epochs=epochs, shuffle=True, validation_split=validation_split)\n",
        "\n",
        "  # Get details that will be useful for plotting the loss curve.\n",
        "  epochs = history.epoch\n",
        "  hist = pd.DataFrame(history.history)\n",
        "  mse = hist[\"mean_squared_error\"]\n",
        "\n",
        "  return epochs, mse, history.history\n",
        "\n",
        "print(\"Defined the create_model and train_model functions.\")"
      ],
      "metadata": {
        "colab": {
          "base_uri": "https://localhost:8080/"
        },
        "id": "AR6-1MScg1oR",
        "outputId": "144c4115-901c-40fb-ccdd-a14b9b6dcbd7"
      },
      "execution_count": 5,
      "outputs": [
        {
          "output_type": "stream",
          "name": "stdout",
          "text": [
            "Defined the create_model and train_model functions.\n"
          ]
        }
      ]
    },
    {
      "cell_type": "code",
      "source": [
        "#@title Define normalized label columns\n",
        "# Create Normalization layers to normalize the median_house_value data.\n",
        "# Because median_house_value is our label (i.e., the target value we're\n",
        "# predicting), these layers won't be added to our model.\n",
        "\n",
        "train_charges_normalized = tf.keras.layers.Normalization(axis=None)\n",
        "train_charges_normalized.adapt(\n",
        "    np.array(train_df['charges']))\n",
        "\n",
        "test_charges_normalized = tf.keras.layers.Normalization(axis=None)\n",
        "test_charges_normalized.adapt(\n",
        "    np.array(test_df['charges']))"
      ],
      "metadata": {
        "id": "1Tk7I7P3jg58"
      },
      "execution_count": 6,
      "outputs": []
    },
    {
      "cell_type": "code",
      "source": [
        "#@title Define linear regression model outputs\n",
        "def get_outputs_linear_regression():\n",
        "  # Create the Dense output layer.\n",
        "  dense_output = tf.keras.layers.Dense(units=1,\n",
        "                              name='dense_output')(preprocessing_layers)\n",
        "\n",
        "  # Define an output dictionary we'll send to the model constructor.\n",
        "  outputs = {\n",
        "    'dense_output': dense_output\n",
        "  }\n",
        "  return outputs"
      ],
      "metadata": {
        "id": "c2vxO8BUg5Bd"
      },
      "execution_count": 7,
      "outputs": []
    },
    {
      "cell_type": "code",
      "execution_count": 8,
      "metadata": {
        "id": "tsfE4ujDL4ju",
        "colab": {
          "base_uri": "https://localhost:8080/",
          "height": 1000
        },
        "outputId": "c69c47a4-e66c-4106-e860-080b664683a6"
      },
      "outputs": [
        {
          "output_type": "stream",
          "name": "stdout",
          "text": [
            "Epoch 1/15\n",
            "2/2 [==============================] - 3s 986ms/step - loss: 0.9872 - mean_squared_error: 0.9872 - val_loss: 1.0517 - val_mean_squared_error: 1.0517\n",
            "Epoch 2/15\n",
            "2/2 [==============================] - 0s 72ms/step - loss: 0.9875 - mean_squared_error: 0.9875 - val_loss: 1.0518 - val_mean_squared_error: 1.0518\n",
            "Epoch 3/15\n",
            "2/2 [==============================] - 0s 97ms/step - loss: 0.9875 - mean_squared_error: 0.9875 - val_loss: 1.0513 - val_mean_squared_error: 1.0513\n",
            "Epoch 4/15\n",
            "2/2 [==============================] - 0s 108ms/step - loss: 0.9873 - mean_squared_error: 0.9873 - val_loss: 1.0509 - val_mean_squared_error: 1.0509\n",
            "Epoch 5/15\n",
            "2/2 [==============================] - 0s 83ms/step - loss: 0.9873 - mean_squared_error: 0.9873 - val_loss: 1.0507 - val_mean_squared_error: 1.0507\n",
            "Epoch 6/15\n",
            "2/2 [==============================] - 0s 129ms/step - loss: 0.9873 - mean_squared_error: 0.9873 - val_loss: 1.0506 - val_mean_squared_error: 1.0506\n",
            "Epoch 7/15\n",
            "2/2 [==============================] - 0s 121ms/step - loss: 0.9874 - mean_squared_error: 0.9874 - val_loss: 1.0506 - val_mean_squared_error: 1.0506\n",
            "Epoch 8/15\n",
            "2/2 [==============================] - 0s 107ms/step - loss: 0.9873 - mean_squared_error: 0.9873 - val_loss: 1.0509 - val_mean_squared_error: 1.0509\n",
            "Epoch 9/15\n",
            "2/2 [==============================] - 0s 77ms/step - loss: 0.9874 - mean_squared_error: 0.9874 - val_loss: 1.0511 - val_mean_squared_error: 1.0511\n",
            "Epoch 10/15\n",
            "2/2 [==============================] - 0s 72ms/step - loss: 0.9873 - mean_squared_error: 0.9873 - val_loss: 1.0512 - val_mean_squared_error: 1.0512\n",
            "Epoch 11/15\n",
            "2/2 [==============================] - 0s 73ms/step - loss: 0.9873 - mean_squared_error: 0.9873 - val_loss: 1.0512 - val_mean_squared_error: 1.0512\n",
            "Epoch 12/15\n",
            "2/2 [==============================] - 0s 67ms/step - loss: 0.9873 - mean_squared_error: 0.9873 - val_loss: 1.0512 - val_mean_squared_error: 1.0512\n",
            "Epoch 13/15\n",
            "2/2 [==============================] - 0s 78ms/step - loss: 0.9873 - mean_squared_error: 0.9873 - val_loss: 1.0513 - val_mean_squared_error: 1.0513\n",
            "Epoch 14/15\n",
            "2/2 [==============================] - 0s 99ms/step - loss: 0.9873 - mean_squared_error: 0.9873 - val_loss: 1.0514 - val_mean_squared_error: 1.0514\n",
            "Epoch 15/15\n",
            "2/2 [==============================] - 0s 113ms/step - loss: 0.9873 - mean_squared_error: 0.9873 - val_loss: 1.0514 - val_mean_squared_error: 1.0514\n"
          ]
        },
        {
          "output_type": "display_data",
          "data": {
            "text/plain": [
              "<Figure size 640x480 with 1 Axes>"
            ],
            "image/png": "[encoded data removed]"
          },
          "metadata": {}
        },
        {
          "output_type": "stream",
          "name": "stdout",
          "text": [
            "\n",
            " Evaluate the linear regression model against the test set:\n",
            "2/2 [==============================] - 0s 17ms/step - loss: 1.0002 - mean_squared_error: 1.0002\n"
          ]
        },
        {
          "output_type": "execute_result",
          "data": {
            "text/plain": [
              "{'loss': 1.0001708269119263, 'mean_squared_error': 1.0001708269119263}"
            ]
          },
          "metadata": {},
          "execution_count": 8
        }
      ],
      "source": [
        " # The following variables are the hyperparameters.\n",
        "learning_rate = 0.01\n",
        "epochs = 15\n",
        "batch_size = 1000\n",
        "label_name = \"charges\"\n",
        "\n",
        "# Split the original training set into a reduced training set and a\n",
        "# validation set.\n",
        "validation_split = 0.2\n",
        "\n",
        "outputs = get_outputs_linear_regression()\n",
        "\n",
        "# Establish the model's topography.\n",
        "my_model = create_model(inputs, outputs, learning_rate)\n",
        "\n",
        "# Train the model on the normalized training set.\n",
        "epochs, mse, history = train_model(my_model, train_df, epochs, batch_size,\n",
        "                          label_name, validation_split)\n",
        "plot_the_loss_curve(epochs, mse, history[\"val_mean_squared_error\"])\n",
        "\n",
        "test_features = {name:np.array(value) for name, value in test_df.items()}\n",
        "test_label = test_charges_normalized(test_features.pop(label_name)) # isolate the label\n",
        "print(\"\\n Evaluate the linear regression model against the test set:\")\n",
        "my_model.evaluate(x = test_features, y = test_label, batch_size=batch_size, return_dict=True)"
      ]
    },
    {
      "cell_type": "code",
      "source": [
        "#@title DNN\n",
        "def get_outputs_dnn():\n",
        "  # Create a Dense layer with 20 nodes.\n",
        "  dense_output = tf.keras.layers.Dense(units=20,\n",
        "                              activation='relu',\n",
        "                              name='hidden_dense_layer_1')(preprocessing_layers)\n",
        "  # Create a Dense layer with 12 nodes.\n",
        "  dense_output = tf.keras.layers.Dense(units=12,\n",
        "                              activation='relu',\n",
        "                              name='hidden_dense_layer_2')(dense_output)\n",
        "  # Create the Dense output layer.\n",
        "  dense_output = tf.keras.layers.Dense(units=1,\n",
        "                              name='dense_output')(dense_output)\n",
        "\n",
        "  # Define an output dictionary we'll send to the model constructor.\n",
        "  outputs = {\n",
        "    'dense_output': dense_output\n",
        "  }\n",
        "\n",
        "  return outputs"
      ],
      "metadata": {
        "id": "-Q-n30HtYhRD"
      },
      "execution_count": 9,
      "outputs": []
    },
    {
      "cell_type": "code",
      "source": [
        "# The following variables are the hyperparameters.\n",
        "learning_rate = 0.01\n",
        "epochs = 20\n",
        "batch_size = 1000\n",
        "\n",
        "# Specify the label\n",
        "label_name = \"charges\"\n",
        "\n",
        "# Split the original training set into a reduced training set and a\n",
        "# validation set.\n",
        "validation_split = 0.2\n",
        "\n",
        "dnn_outputs = get_outputs_dnn()\n",
        "\n",
        "# Establish the model's topography.\n",
        "my_model = create_model(\n",
        "    inputs,\n",
        "    dnn_outputs,\n",
        "    learning_rate)\n",
        "\n",
        "# Train the model on the normalized training set. We're passing the entire\n",
        "# normalized training set, but the model will only use the features\n",
        "# defined in our inputs.\n",
        "epochs, mse, history = train_model(my_model, train_df, epochs,\n",
        "                                   batch_size, label_name, validation_split)\n",
        "plot_the_loss_curve(epochs, mse, history[\"val_mean_squared_error\"])\n",
        "\n",
        "# After building a model against the training set, test that model\n",
        "# against the test set.\n",
        "test_features = {name:np.array(value) for name, value in test_df.items()}\n",
        "test_label = test_charges_normalized(np.array(test_features.pop(label_name))) # isolate the label\n",
        "print(\"\\n Evaluate the new model against the test set:\")\n",
        "my_model.evaluate(x = test_features, y = test_label, batch_size=batch_size, return_dict=True)"
      ],
      "metadata": {
        "colab": {
          "base_uri": "https://localhost:8080/",
          "height": 1000
        },
        "id": "jZ_V7hDCYkb7",
        "outputId": "33bc9c0f-4406-457a-fe5a-fbf2299fad21"
      },
      "execution_count": 10,
      "outputs": [
        {
          "output_type": "stream",
          "name": "stdout",
          "text": [
            "Epoch 1/20\n",
            "2/2 [==============================] - 2s 484ms/step - loss: 0.9875 - mean_squared_error: 0.9875 - val_loss: 1.0509 - val_mean_squared_error: 1.0509\n",
            "Epoch 2/20\n",
            "2/2 [==============================] - 0s 42ms/step - loss: 0.9871 - mean_squared_error: 0.9871 - val_loss: 1.0505 - val_mean_squared_error: 1.0505\n",
            "Epoch 3/20\n",
            "2/2 [==============================] - 0s 55ms/step - loss: 0.9875 - mean_squared_error: 0.9875 - val_loss: 1.0504 - val_mean_squared_error: 1.0504\n",
            "Epoch 4/20\n",
            "2/2 [==============================] - 0s 57ms/step - loss: 0.9877 - mean_squared_error: 0.9877 - val_loss: 1.0504 - val_mean_squared_error: 1.0504\n",
            "Epoch 5/20\n",
            "2/2 [==============================] - 0s 56ms/step - loss: 0.9879 - mean_squared_error: 0.9879 - val_loss: 1.0505 - val_mean_squared_error: 1.0505\n",
            "Epoch 6/20\n",
            "2/2 [==============================] - 0s 57ms/step - loss: 0.9883 - mean_squared_error: 0.9883 - val_loss: 1.0505 - val_mean_squared_error: 1.0505\n",
            "Epoch 7/20\n",
            "2/2 [==============================] - 0s 56ms/step - loss: 0.9885 - mean_squared_error: 0.9885 - val_loss: 1.0505 - val_mean_squared_error: 1.0505\n",
            "Epoch 8/20\n",
            "2/2 [==============================] - 0s 59ms/step - loss: 0.9885 - mean_squared_error: 0.9885 - val_loss: 1.0505 - val_mean_squared_error: 1.0505\n",
            "Epoch 9/20\n",
            "2/2 [==============================] - 0s 41ms/step - loss: 0.9885 - mean_squared_error: 0.9885 - val_loss: 1.0505 - val_mean_squared_error: 1.0505\n",
            "Epoch 10/20\n",
            "2/2 [==============================] - 0s 57ms/step - loss: 0.9883 - mean_squared_error: 0.9883 - val_loss: 1.0504 - val_mean_squared_error: 1.0504\n",
            "Epoch 11/20\n",
            "2/2 [==============================] - 0s 42ms/step - loss: 0.9881 - mean_squared_error: 0.9881 - val_loss: 1.0504 - val_mean_squared_error: 1.0504\n",
            "Epoch 12/20\n",
            "2/2 [==============================] - 0s 56ms/step - loss: 0.9880 - mean_squared_error: 0.9880 - val_loss: 1.0504 - val_mean_squared_error: 1.0504\n",
            "Epoch 13/20\n",
            "2/2 [==============================] - 0s 58ms/step - loss: 0.9880 - mean_squared_error: 0.9880 - val_loss: 1.0504 - val_mean_squared_error: 1.0504\n",
            "Epoch 14/20\n",
            "2/2 [==============================] - 0s 67ms/step - loss: 0.9879 - mean_squared_error: 0.9879 - val_loss: 1.0504 - val_mean_squared_error: 1.0504\n",
            "Epoch 15/20\n",
            "2/2 [==============================] - 0s 61ms/step - loss: 0.9878 - mean_squared_error: 0.9878 - val_loss: 1.0504 - val_mean_squared_error: 1.0504\n",
            "Epoch 16/20\n",
            "2/2 [==============================] - 0s 64ms/step - loss: 0.9875 - mean_squared_error: 0.9875 - val_loss: 1.0505 - val_mean_squared_error: 1.0505\n",
            "Epoch 17/20\n",
            "2/2 [==============================] - 0s 49ms/step - loss: 0.9874 - mean_squared_error: 0.9874 - val_loss: 1.0508 - val_mean_squared_error: 1.0508\n",
            "Epoch 18/20\n",
            "2/2 [==============================] - 0s 47ms/step - loss: 0.9873 - mean_squared_error: 0.9873 - val_loss: 1.0511 - val_mean_squared_error: 1.0511\n",
            "Epoch 19/20\n",
            "2/2 [==============================] - 0s 63ms/step - loss: 0.9873 - mean_squared_error: 0.9873 - val_loss: 1.0514 - val_mean_squared_error: 1.0514\n",
            "Epoch 20/20\n",
            "2/2 [==============================] - 0s 46ms/step - loss: 0.9874 - mean_squared_error: 0.9874 - val_loss: 1.0516 - val_mean_squared_error: 1.0516\n"
          ]
        },
        {
          "output_type": "display_data",
          "data": {
            "text/plain": [
              "<Figure size 640x480 with 1 Axes>"
            ],
            "image/png": "[encoded data removed]"
          },
          "metadata": {}
        },
        {
          "output_type": "stream",
          "name": "stdout",
          "text": [
            "\n",
            " Evaluate the new model against the test set:\n",
            "2/2 [==============================] - 0s 10ms/step - loss: 1.0003 - mean_squared_error: 1.0003\n"
          ]
        },
        {
          "output_type": "execute_result",
          "data": {
            "text/plain": [
              "{'loss': 1.000253677368164, 'mean_squared_error': 1.000253677368164}"
            ]
          },
          "metadata": {},
          "execution_count": 10
        }
      ]
    },
    {
      "cell_type": "code",
      "source": [
        "# @title Task 1, but it is RandomForestRegressor instead of baseline LinearRegressor\n",
        "from sklearn.ensemble import RandomForestRegressor\n",
        "from sklearn.preprocessing import LabelEncoder\n",
        "from sklearn.model_selection import learning_curve\n",
        "import matplotlib.pyplot as plt\n",
        "\n",
        "le = LabelEncoder()\n",
        "\n",
        "train_df2 = train_df.copy()\n",
        "test_df2 = test_df.copy()\n",
        "\n",
        "train_df2['sex'] = le.fit_transform(train_df['sex'])\n",
        "test_df2['sex'] = le.fit_transform(test_df['sex'])\n",
        "\n",
        "train_df2['smoker'] = le.fit_transform(train_df['smoker'])\n",
        "test_df2['smoker'] = le.fit_transform(test_df['smoker'])\n",
        "\n",
        "train_df2['region'] = le.fit_transform(train_df['region'])\n",
        "test_df2['region'] = le.fit_transform(test_df['region'])\n",
        "\n",
        "\n",
        "\n",
        "X_train = train_df2.iloc[:, :-1]\n",
        "X_test = test_df2.iloc[:, :-1]\n",
        "Y_train = train_df2.iloc[:, -1]\n",
        "Y_test = test_df2.iloc[:, -1]\n",
        "\n",
        "# default n_estimator = 100\n",
        "model = RandomForestRegressor()\n",
        "train_sizes, train_scores, validation_scores = learning_curve(\n",
        "    model, X_train, Y_train,\n",
        "    scoring='neg_mean_squared_error')\n",
        "\n",
        "# Calculate the mean for training set scores\n",
        "train_scores_mean = -train_scores.mean(axis=1)\n",
        "\n",
        "# Calculate the mean for validation set scores\n",
        "validation_scores_mean = -validation_scores.mean(axis=1)\n",
        "\n",
        "# Plot the learning curve\n",
        "plt.figure(figsize=(16, 5))\n",
        "plt.subplot(1, 2, 1)\n",
        "plt.plot(train_sizes, train_scores_mean, label='Training error')\n",
        "plt.plot(train_sizes, validation_scores_mean, label='Validation error')\n",
        "plt.title('Learning Curves for Random Forest Regressor')\n",
        "plt.xlabel('Training Set Size')\n",
        "plt.ylabel('MSE')\n",
        "plt.legend(loc=\"best\")\n",
        "plt.show()"
      ],
      "metadata": {
        "colab": {
          "base_uri": "https://localhost:8080/",
          "height": 487
        },
        "id": "VIHdXZXyrzE1",
        "outputId": "557dae7f-6541-4cd3-de3d-01e0b36f2e59"
      },
      "execution_count": 19,
      "outputs": [
        {
          "output_type": "display_data",
          "data": {
            "text/plain": [
              "<Figure size 1600x500 with 1 Axes>"
            ],
            "image/png": "[encoded data removed]"
          },
          "metadata": {}
        }
      ]
    },
    {
      "cell_type": "code",
      "source": [
        "# @title Task 2 with everything already set;\n",
        "# trying out Multilayered (2 hidden layers) perceptron with 10, 6 nodes in hidden layer, 1 node in output.\n",
        "# input layer was set beforehand;\n",
        "# overfitting was considered to be performed over 1st layer in DNN.\n",
        "def get_outputs_dnn():\n",
        "  # Create a Dense layer with 10 nodes.\n",
        "  dense_output = tf.keras.layers.Dense(units=10,\n",
        "                              activation='relu',\n",
        "                              name='hidden_dense_layer_1')(preprocessing_layers)\n",
        "  # Dropout for sake of avoiding overfitting, where some of the neurons/nodes got turned off\n",
        "  dense_output = tf.keras.layers.Dropout(0.2) (dense_output)\n",
        "  # Create a Dense layer with 6 nodes.\n",
        "  dense_output = tf.keras.layers.Dense(units=6,\n",
        "                              activation='relu',\n",
        "                              name='hidden_dense_layer_2')(dense_output)\n",
        "  # Create the Dense output layer.\n",
        "  dense_output = tf.keras.layers.Dense(units=1,\n",
        "                              name='dense_output')(dense_output)\n",
        "\n",
        "  # Define an output dictionary we'll send to the model constructor.\n",
        "  outputs = {\n",
        "    'dense_output': dense_output\n",
        "  }\n",
        "\n",
        "  return outputs"
      ],
      "metadata": {
        "id": "YpuXJgmPXcHc"
      },
      "execution_count": 12,
      "outputs": []
    },
    {
      "cell_type": "code",
      "source": [
        "# The following variables are the hyperparameters.\n",
        "learning_rate = 0.01\n",
        "epochs = 20\n",
        "batch_size = 1000\n",
        "\n",
        "# Specify the label\n",
        "label_name = \"charges\"\n",
        "\n",
        "# Split the original training set into a reduced training set and a\n",
        "# validation set.\n",
        "validation_split = 0.2\n",
        "\n",
        "dnn_outputs = get_outputs_dnn()\n",
        "\n",
        "# Establish the model's topography.\n",
        "my_model = create_model(\n",
        "    inputs,\n",
        "    dnn_outputs,\n",
        "    learning_rate)\n",
        "\n",
        "# Train the model on the normalized training set. We're passing the entire\n",
        "# normalized training set, but the model will only use the features\n",
        "# defined in our inputs.\n",
        "epochs, mse, history = train_model(my_model, train_df, epochs,\n",
        "                                   batch_size, label_name, validation_split)\n",
        "plot_the_loss_curve(epochs, mse, history[\"val_mean_squared_error\"])\n",
        "\n",
        "# After building a model against the training set, test that model\n",
        "# against the test set.\n",
        "test_features = {name:np.array(value) for name, value in test_df.items()}\n",
        "test_label = test_charges_normalized(np.array(test_features.pop(label_name))) # isolate the label\n",
        "# print(\"\\n Evaluate the new model against the test set:\")\n",
        "my_model.evaluate(x = test_features, y = test_label, batch_size=batch_size, return_dict=True)"
      ],
      "metadata": {
        "colab": {
          "base_uri": "https://localhost:8080/",
          "height": 1000
        },
        "id": "our-OKnhZ0JV",
        "outputId": "36e1e3a4-92bb-4562-ef11-e525f50c793a"
      },
      "execution_count": 13,
      "outputs": [
        {
          "output_type": "stream",
          "name": "stdout",
          "text": [
            "Epoch 1/20\n",
            "2/2 [==============================] - 2s 509ms/step - loss: 0.9873 - mean_squared_error: 0.9873 - val_loss: 1.0509 - val_mean_squared_error: 1.0509\n",
            "Epoch 2/20\n",
            "2/2 [==============================] - 0s 65ms/step - loss: 0.9873 - mean_squared_error: 0.9873 - val_loss: 1.0508 - val_mean_squared_error: 1.0508\n",
            "Epoch 3/20\n",
            "2/2 [==============================] - 0s 66ms/step - loss: 0.9872 - mean_squared_error: 0.9872 - val_loss: 1.0512 - val_mean_squared_error: 1.0512\n",
            "Epoch 4/20\n",
            "2/2 [==============================] - 0s 53ms/step - loss: 0.9873 - mean_squared_error: 0.9873 - val_loss: 1.0518 - val_mean_squared_error: 1.0518\n",
            "Epoch 5/20\n",
            "2/2 [==============================] - 0s 62ms/step - loss: 0.9874 - mean_squared_error: 0.9874 - val_loss: 1.0524 - val_mean_squared_error: 1.0524\n",
            "Epoch 6/20\n",
            "2/2 [==============================] - 0s 56ms/step - loss: 0.9878 - mean_squared_error: 0.9878 - val_loss: 1.0527 - val_mean_squared_error: 1.0527\n",
            "Epoch 7/20\n",
            "2/2 [==============================] - 0s 40ms/step - loss: 0.9879 - mean_squared_error: 0.9879 - val_loss: 1.0524 - val_mean_squared_error: 1.0524\n",
            "Epoch 8/20\n",
            "2/2 [==============================] - 0s 41ms/step - loss: 0.9878 - mean_squared_error: 0.9878 - val_loss: 1.0523 - val_mean_squared_error: 1.0523\n",
            "Epoch 9/20\n",
            "2/2 [==============================] - 0s 58ms/step - loss: 0.9877 - mean_squared_error: 0.9877 - val_loss: 1.0524 - val_mean_squared_error: 1.0524\n",
            "Epoch 10/20\n",
            "2/2 [==============================] - 0s 67ms/step - loss: 0.9877 - mean_squared_error: 0.9877 - val_loss: 1.0521 - val_mean_squared_error: 1.0521\n",
            "Epoch 11/20\n",
            "2/2 [==============================] - 0s 48ms/step - loss: 0.9877 - mean_squared_error: 0.9877 - val_loss: 1.0517 - val_mean_squared_error: 1.0517\n",
            "Epoch 12/20\n",
            "2/2 [==============================] - 0s 41ms/step - loss: 0.9875 - mean_squared_error: 0.9875 - val_loss: 1.0515 - val_mean_squared_error: 1.0515\n",
            "Epoch 13/20\n",
            "2/2 [==============================] - 0s 39ms/step - loss: 0.9874 - mean_squared_error: 0.9874 - val_loss: 1.0514 - val_mean_squared_error: 1.0514\n",
            "Epoch 14/20\n",
            "2/2 [==============================] - 0s 39ms/step - loss: 0.9873 - mean_squared_error: 0.9873 - val_loss: 1.0511 - val_mean_squared_error: 1.0511\n",
            "Epoch 15/20\n",
            "2/2 [==============================] - 0s 42ms/step - loss: 0.9873 - mean_squared_error: 0.9873 - val_loss: 1.0509 - val_mean_squared_error: 1.0509\n",
            "Epoch 16/20\n",
            "2/2 [==============================] - 0s 56ms/step - loss: 0.9872 - mean_squared_error: 0.9872 - val_loss: 1.0507 - val_mean_squared_error: 1.0507\n",
            "Epoch 17/20\n",
            "2/2 [==============================] - 0s 58ms/step - loss: 0.9873 - mean_squared_error: 0.9873 - val_loss: 1.0505 - val_mean_squared_error: 1.0505\n",
            "Epoch 18/20\n",
            "2/2 [==============================] - 0s 61ms/step - loss: 0.9874 - mean_squared_error: 0.9874 - val_loss: 1.0504 - val_mean_squared_error: 1.0504\n",
            "Epoch 19/20\n",
            "2/2 [==============================] - 0s 45ms/step - loss: 0.9876 - mean_squared_error: 0.9876 - val_loss: 1.0504 - val_mean_squared_error: 1.0504\n",
            "Epoch 20/20\n",
            "2/2 [==============================] - 0s 39ms/step - loss: 0.9878 - mean_squared_error: 0.9878 - val_loss: 1.0504 - val_mean_squared_error: 1.0504\n"
          ]
        },
        {
          "output_type": "display_data",
          "data": {
            "text/plain": [
              "<Figure size 640x480 with 1 Axes>"
            ],
            "image/png": "[encoded data removed]"
          },
          "metadata": {}
        },
        {
          "output_type": "stream",
          "name": "stdout",
          "text": [
            "2/2 [==============================] - 0s 12ms/step - loss: 1.0003 - mean_squared_error: 1.0003\n"
          ]
        },
        {
          "output_type": "execute_result",
          "data": {
            "text/plain": [
              "{'loss': 1.0002851486206055, 'mean_squared_error': 1.0002851486206055}"
            ]
          },
          "metadata": {},
          "execution_count": 13
        }
      ]
    }
  ]
}