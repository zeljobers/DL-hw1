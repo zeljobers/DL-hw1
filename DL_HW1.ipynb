{
  "cells": [
    {
      "cell_type": "markdown",
      "metadata": {
        "id": "view-in-github",
        "colab_type": "text"
      },
      "source": [
        "<a href=\"https://colab.research.google.com/github/zeljobers/DL-hw1/blob/main/DL_HW1.ipynb\" target=\"_parent\"><img src=\"https://colab.research.google.com/assets/colab-badge.svg\" alt=\"Open In Colab\"/></a>"
      ]
    },
    {
      "cell_type": "code",
      "execution_count": null,
      "metadata": {
        "id": "r4bhqka3o1fH"
      },
      "outputs": [],
      "source": [
        "#  https://www.kaggle.com/datasets/mirichoi0218/insurance\n",
        "# https://colab.research.google.com/drive/1Yzj3s5vLBWPQUk3MO4LZ-Zv5aUZ4u3ak?usp=sharing\n",
        "# https://colab.research.google.com/github/google/eng-edu/blob/main/ml/cc/exercises/intro_to_neural_nets.ipynb#scrollTo=tsfE4ujDL4ju\n",
        "import pandas as pd\n",
        "import numpy as np\n",
        "import tensorflow as tf\n",
        "import matplotlib.pyplot as plt\n",
        "from sklearn.preprocessing import LabelEncoder\n",
        "\n",
        "pd.options.mode.chained_assignment = None\n",
        "pd.options.display.max_rows = 10\n",
        "pd.options.display.float_format = \"{:.1f}\".format\n",
        "\n",
        "dataframe = pd.read_csv('./insurance.csv')\n",
        "dataframe = dataframe.reindex(np.random.permutation(dataframe.index))\n",
        "\n",
        "test_dataframe = pd.read_csv('./insurance.csv')\n",
        "\n",
        "df1 = dataframe\n",
        "df1 = df1.drop_duplicates()\n",
        "train_df = df1\n",
        "train_df_regr = df1.copy()\n",
        "\n",
        "test_dataframe = test_dataframe.drop_duplicates()\n",
        "test_df = test_dataframe\n",
        "test_df_regr = df1.copy()\n",
        "\n",
        "le = LabelEncoder()\n",
        "encoded_sex = le.fit_transform(df1['sex'])\n",
        "train_df['sex'] = le.fit_transform(df1['sex'])\n",
        "test_df['sex'] = le.fit_transform(df1['sex'])\n",
        "\n",
        "encoded_smoker = le.fit_transform(df1['smoker'])\n",
        "train_df['smoker'] = le.fit_transform(df1['smoker'])\n",
        "test_df['smoker'] = le.fit_transform(df1['smoker'])\n",
        "encoded_region = le.fit_transform(df1['region'])\n",
        "train_df['region'] = le.fit_transform(df1['region'])\n",
        "test_df['region'] = le.fit_transform(df1['region'])\n"
      ]
    },
    {
      "cell_type": "code",
      "source": [
        "#concatenate samo prima int i string vrednosti\n",
        "# https://www.tensorflow.org/api_docs/python/tf/dtypes\n",
        "# https://www.tensorflow.org/guide/keras/preprocessing_layers\n",
        "inputs = {\n",
        "    'sex': tf.keras.layers.Input(shape=(1,), dtype=tf.float32, name='sex'),\n",
        "    'smoker': tf.keras.layers.Input(shape=(1,), dtype=tf.float32, name='smoker'),\n",
        "    'region': tf.keras.layers.Input(shape=(1,), dtype=tf.float32, name='region'),\n",
        "    'age': tf.keras.layers.Input(shape=(1,), dtype=tf.float32, name='age'),\n",
        "    'bmi':\n",
        "        tf.keras.layers.Input(shape=(1,), dtype=tf.float32,\n",
        "                              name='bmi'),\n",
        "    'children':\n",
        "        tf.keras.layers.Input(shape=(1,), dtype=tf.float32,\n",
        "                              name='children')\n",
        "}\n",
        "\n",
        "\n",
        "encoded_sex_norm = tf.keras.layers.Normalization(name='normalization_encoded_sex', axis=None)\n",
        "encoded_sex_norm.adapt(encoded_sex.reshape(-1, 1))\n",
        "encoded_sex_norm = encoded_sex_norm(inputs.get('sex'))\n",
        "\n",
        "encoded_smoker_norm = tf.keras.layers.Normalization(name='normalization_encoded_smoker', axis=None)\n",
        "encoded_smoker_norm.adapt(encoded_smoker.reshape(-1, 1))\n",
        "encoded_smoker_norm = encoded_smoker_norm(inputs.get('smoker'))\n",
        "\n",
        "encoded_region_norm = tf.keras.layers.Normalization(name='normalization_encoded_region', axis=None)\n",
        "encoded_region_norm.adapt(encoded_region.reshape(-1, 1))\n",
        "encoded_region_norm = encoded_region_norm(inputs.get('region'))\n",
        "\n",
        "encoded_sex_norm = tf.keras.layers.Discretization(\n",
        "    name='discretization_encoded_sex')(encoded_sex_norm)\n",
        "\n",
        "encoded_smoker_norm = tf.keras.layers.Discretization(\n",
        "    name='discretization_encoded_smoker')(encoded_smoker_norm)\n",
        "\n",
        "\n",
        "encoded_region_norm = tf.keras.layers.Discretization(\n",
        "    name='discretization_encoded_region')(encoded_region_norm)\n",
        "\n",
        "\n",
        "age = tf.keras.layers.Normalization(\n",
        "    name='normalization_age',\n",
        "    axis=None\n",
        "    # output_mode='one_hot'\n",
        "    )\n",
        "age.adapt(df1['age'].to_numpy().reshape(-1,1))\n",
        "age = age(inputs.get('age'))\n",
        "\n",
        "\n",
        "age = tf.keras.layers.Discretization(\n",
        "    name='discretization_age'\n",
        "    )(age)\n",
        "\n",
        "bmi = tf.keras.layers.Normalization(\n",
        "    name='normalization_bmi',\n",
        "    axis=None\n",
        "    )\n",
        "bmi.adapt(df1['bmi'].to_numpy().reshape(-1,1))\n",
        "bmi = bmi(inputs.get('bmi'))\n",
        "\n",
        "bmi = tf.keras.layers.Discretization(\n",
        "    name='discretization_bmi'\n",
        "    )(bmi)\n",
        "\n",
        "children = tf.keras.layers.Normalization(\n",
        "    name='normalization_children',\n",
        "    axis=None\n",
        "    # output_mode='one_hot'\n",
        "    )\n",
        "children.adapt(df1['children'].to_numpy().reshape(-1,1))\n",
        "children = children(inputs.get('children'))\n",
        "\n",
        "\n",
        "children = tf.keras.layers.Discretization(\n",
        "    name='discretization_children'\n",
        "    )(children)\n",
        "\n",
        "\n",
        "feature_cross1 = tf.keras.layers.HashedCrossing(\n",
        "    num_bins=len(np.unique(df1['sex'])) * len(np.unique(df1['smoker'])),\n",
        "    output_mode='int',\n",
        "    name='cross_1')([encoded_sex_norm, encoded_smoker_norm])\n",
        "\n",
        "\n",
        "\n",
        "preprocessing_layers = tf.keras.layers.Concatenate()(\n",
        "  [age, encoded_region_norm, feature_cross1, bmi, children])\n",
        "\n"
      ],
      "metadata": {
        "id": "C-L_6YkytkXq"
      },
      "execution_count": null,
      "outputs": []
    },
    {
      "cell_type": "code",
      "source": [
        "#@title Define the plotting function.\n",
        "\n",
        "def plot_the_loss_curve(epochs, mse_training, mse_validation):\n",
        "  \"\"\"Plot a curve of loss vs. epoch.\"\"\"\n",
        "\n",
        "  plt.figure()\n",
        "  plt.title(\"Loss\")\n",
        "  plt.xlabel(\"Epoch\")\n",
        "  plt.ylabel(\"Mean Squared Error\")\n",
        "\n",
        "  plt.plot(epochs, mse_training, label=\"Training Loss\")\n",
        "  plt.plot(epochs, mse_validation, label=\"Validation Loss\")\n",
        "\n",
        "  # mse_training is a pandas Series, so convert it to a list first.\n",
        "  merged_mse_lists = mse_training.tolist() + mse_validation\n",
        "  highest_loss = max(merged_mse_lists)\n",
        "  lowest_loss = min(merged_mse_lists)\n",
        "  top_of_y_axis = highest_loss * 1.03\n",
        "  bottom_of_y_axis = lowest_loss * 0.97\n",
        "\n",
        "  plt.ylim([bottom_of_y_axis, top_of_y_axis])\n",
        "  plt.legend()\n",
        "  plt.show()\n",
        "\n",
        "print(\"Defined the plot_the_loss_curve function.\")"
      ],
      "metadata": {
        "colab": {
          "base_uri": "https://localhost:8080/"
        },
        "id": "wnseJYw6gwrE",
        "outputId": "7224289a-5cc7-4140-9975-e2f24af110d5"
      },
      "execution_count": null,
      "outputs": [
        {
          "output_type": "stream",
          "name": "stdout",
          "text": [
            "Defined the plot_the_loss_curve function.\n"
          ]
        }
      ]
    },
    {
      "cell_type": "code",
      "source": [
        "#@title Define functions to create and train a linear regression model\n",
        "def create_model(my_inputs, my_outputs, my_learning_rate):\n",
        "  \"\"\"Create and compile a simple linear regression model.\"\"\"\n",
        "  model = tf.keras.Model(inputs=my_inputs, outputs=my_outputs)\n",
        "\n",
        "  # Construct the layers into a model that TensorFlow can execute.\n",
        "  model.compile(optimizer=tf.keras.optimizers.Adam(\n",
        "      learning_rate=my_learning_rate),\n",
        "      loss=\"mean_squared_error\",\n",
        "      metrics=[tf.keras.metrics.MeanSquaredError()])\n",
        "\n",
        "  return model\n",
        "\n",
        "\n",
        "def train_model(model, dataset, epochs, batch_size, label_name, validation_split=0.1):\n",
        "  \"\"\"Feed a dataset into the model in order to train it.\"\"\"\n",
        "\n",
        "  # Split the dataset into features and label.\n",
        "  features = {name:np.array(value) for name, value in dataset.items()}\n",
        "  label = train_charges_normalized(\n",
        "      np.array(features.pop(label_name)))\n",
        "  history = model.fit(x=features, y=label, batch_size=batch_size,\n",
        "                      epochs=epochs, shuffle=True, validation_split=validation_split)\n",
        "\n",
        "  # Get details that will be useful for plotting the loss curve.\n",
        "  epochs = history.epoch\n",
        "  hist = pd.DataFrame(history.history)\n",
        "  mse = hist[\"mean_squared_error\"]\n",
        "\n",
        "  return epochs, mse, history.history\n",
        "\n",
        "print(\"Defined the create_model and train_model functions.\")"
      ],
      "metadata": {
        "colab": {
          "base_uri": "https://localhost:8080/"
        },
        "id": "AR6-1MScg1oR",
        "outputId": "eb6db9b9-cb59-4d9f-990a-dcf8eab159c3"
      },
      "execution_count": null,
      "outputs": [
        {
          "output_type": "stream",
          "name": "stdout",
          "text": [
            "Defined the create_model and train_model functions.\n"
          ]
        }
      ]
    },
    {
      "cell_type": "code",
      "source": [
        "#@title Define normalized label columns\n",
        "# Create Normalization layers to normalize the median_house_value data.\n",
        "# Because median_house_value is our label (i.e., the target value we're\n",
        "# predicting), these layers won't be added to our model.\n",
        "train_charges_normalized = tf.keras.layers.Normalization(axis=None)\n",
        "train_charges_normalized.adapt(\n",
        "    np.array(train_df['charges']))\n",
        "\n",
        "test_charges_normalized = tf.keras.layers.Normalization(axis=None)\n",
        "test_charges_normalized.adapt(\n",
        "    np.array(test_df['charges']))"
      ],
      "metadata": {
        "id": "1Tk7I7P3jg58"
      },
      "execution_count": null,
      "outputs": []
    },
    {
      "cell_type": "code",
      "source": [
        "#@title Define linear regression model outputs\n",
        "def get_outputs_linear_regression():\n",
        "  # Create the Dense output layer.\n",
        "  dense_output = tf.keras.layers.Dense(units=1,\n",
        "                              name='dense_output')(preprocessing_layers)\n",
        "\n",
        "  # Define an output dictionary we'll send to the model constructor.\n",
        "  outputs = {\n",
        "    'dense_output': dense_output\n",
        "  }\n",
        "  return outputs"
      ],
      "metadata": {
        "id": "c2vxO8BUg5Bd"
      },
      "execution_count": null,
      "outputs": []
    },
    {
      "cell_type": "code",
      "execution_count": null,
      "metadata": {
        "id": "tsfE4ujDL4ju",
        "colab": {
          "base_uri": "https://localhost:8080/",
          "height": 1000
        },
        "outputId": "d2611164-1ea5-4387-acf6-9e95f8ee7c6d"
      },
      "outputs": [
        {
          "output_type": "stream",
          "name": "stdout",
          "text": [
            "Epoch 1/15\n",
            "2/2 [==============================] - 1s 267ms/step - loss: 0.9961 - mean_squared_error: 0.9961 - val_loss: 1.0172 - val_mean_squared_error: 1.0172\n",
            "Epoch 2/15\n",
            "2/2 [==============================] - 0s 45ms/step - loss: 0.9961 - mean_squared_error: 0.9961 - val_loss: 1.0184 - val_mean_squared_error: 1.0184\n",
            "Epoch 3/15\n",
            "2/2 [==============================] - 0s 39ms/step - loss: 0.9962 - mean_squared_error: 0.9962 - val_loss: 1.0187 - val_mean_squared_error: 1.0187\n",
            "Epoch 4/15\n",
            "2/2 [==============================] - 0s 67ms/step - loss: 0.9963 - mean_squared_error: 0.9963 - val_loss: 1.0184 - val_mean_squared_error: 1.0184\n",
            "Epoch 5/15\n",
            "2/2 [==============================] - 0s 55ms/step - loss: 0.9962 - mean_squared_error: 0.9962 - val_loss: 1.0178 - val_mean_squared_error: 1.0178\n",
            "Epoch 6/15\n",
            "2/2 [==============================] - 0s 56ms/step - loss: 0.9961 - mean_squared_error: 0.9961 - val_loss: 1.0170 - val_mean_squared_error: 1.0170\n",
            "Epoch 7/15\n",
            "2/2 [==============================] - 0s 56ms/step - loss: 0.9960 - mean_squared_error: 0.9960 - val_loss: 1.0159 - val_mean_squared_error: 1.0159\n",
            "Epoch 8/15\n",
            "2/2 [==============================] - 0s 38ms/step - loss: 0.9960 - mean_squared_error: 0.9960 - val_loss: 1.0148 - val_mean_squared_error: 1.0148\n",
            "Epoch 9/15\n",
            "2/2 [==============================] - 0s 56ms/step - loss: 0.9964 - mean_squared_error: 0.9964 - val_loss: 1.0139 - val_mean_squared_error: 1.0139\n",
            "Epoch 10/15\n",
            "2/2 [==============================] - 0s 39ms/step - loss: 0.9966 - mean_squared_error: 0.9966 - val_loss: 1.0134 - val_mean_squared_error: 1.0134\n",
            "Epoch 11/15\n",
            "2/2 [==============================] - 0s 38ms/step - loss: 0.9969 - mean_squared_error: 0.9969 - val_loss: 1.0131 - val_mean_squared_error: 1.0131\n",
            "Epoch 12/15\n",
            "2/2 [==============================] - 0s 62ms/step - loss: 0.9973 - mean_squared_error: 0.9973 - val_loss: 1.0129 - val_mean_squared_error: 1.0129\n",
            "Epoch 13/15\n",
            "2/2 [==============================] - 0s 39ms/step - loss: 0.9975 - mean_squared_error: 0.9975 - val_loss: 1.0126 - val_mean_squared_error: 1.0126\n",
            "Epoch 14/15\n",
            "2/2 [==============================] - 0s 56ms/step - loss: 0.9978 - mean_squared_error: 0.9978 - val_loss: 1.0124 - val_mean_squared_error: 1.0124\n",
            "Epoch 15/15\n",
            "2/2 [==============================] - 0s 55ms/step - loss: 0.9982 - mean_squared_error: 0.9982 - val_loss: 1.0125 - val_mean_squared_error: 1.0125\n"
          ]
        },
        {
          "output_type": "display_data",
          "data": {
            "text/plain": [
              "<Figure size 640x480 with 1 Axes>"
            ],
            "image/png": "[encoded data removed]"
          },
          "metadata": {}
        },
        {
          "output_type": "stream",
          "name": "stdout",
          "text": [
            "\n",
            " Evaluate the linear regression model against the test set:\n",
            "2/2 [==============================] - 0s 9ms/step - loss: 1.0009 - mean_squared_error: 1.0009\n"
          ]
        },
        {
          "output_type": "execute_result",
          "data": {
            "text/plain": [
              "{'loss': 1.0009459257125854, 'mean_squared_error': 1.0009459257125854}"
            ]
          },
          "metadata": {},
          "execution_count": 35
        }
      ],
      "source": [
        " # The following variables are the hyperparameters.\n",
        "learning_rate = 0.01\n",
        "epochs = 15\n",
        "batch_size = 1000\n",
        "label_name = \"charges\"\n",
        "\n",
        "# Split the original training set into a reduced training set and a\n",
        "# validation set.\n",
        "validation_split = 0.2\n",
        "\n",
        "outputs = get_outputs_linear_regression()\n",
        "\n",
        "# Establish the model's topography.\n",
        "my_model = create_model(inputs, outputs, learning_rate)\n",
        "\n",
        "# Train the model on the normalized training set.\n",
        "epochs, mse, history = train_model(my_model, train_df, epochs, batch_size,\n",
        "                          label_name, validation_split)\n",
        "plot_the_loss_curve(epochs, mse, history[\"val_mean_squared_error\"])\n",
        "\n",
        "test_features = {name:np.array(value) for name, value in test_df.items()}\n",
        "test_label = test_charges_normalized(test_features.pop(label_name)) # isolate the label\n",
        "print(\"\\n Evaluate the linear regression model against the test set:\")\n",
        "my_model.evaluate(x = test_features, y = test_label, batch_size=batch_size, return_dict=True)"
      ]
    },
    {
      "cell_type": "code",
      "source": [
        "#@title DNN\n",
        "def get_outputs_dnn():\n",
        "  # Create a Dense layer with 20 nodes.\n",
        "  dense_output = tf.keras.layers.Dense(units=20,\n",
        "                              activation='relu',\n",
        "                              name='hidden_dense_layer_1')(preprocessing_layers)\n",
        "  # Create a Dense layer with 12 nodes.\n",
        "  dense_output = tf.keras.layers.Dense(units=12,\n",
        "                              activation='relu',\n",
        "                              name='hidden_dense_layer_2')(dense_output)\n",
        "  # Create the Dense output layer.\n",
        "  dense_output = tf.keras.layers.Dense(units=1,\n",
        "                              name='dense_output')(dense_output)\n",
        "\n",
        "  # Define an output dictionary we'll send to the model constructor.\n",
        "  outputs = {\n",
        "    'dense_output': dense_output\n",
        "  }\n",
        "\n",
        "  return outputs"
      ],
      "metadata": {
        "id": "-Q-n30HtYhRD"
      },
      "execution_count": null,
      "outputs": []
    },
    {
      "cell_type": "code",
      "source": [
        "# The following variables are the hyperparameters.\n",
        "learning_rate = 0.01\n",
        "epochs = 20\n",
        "batch_size = 1000\n",
        "\n",
        "# Specify the label\n",
        "label_name = \"charges\"\n",
        "\n",
        "# Split the original training set into a reduced training set and a\n",
        "# validation set.\n",
        "validation_split = 0.2\n",
        "\n",
        "dnn_outputs = get_outputs_dnn()\n",
        "\n",
        "# Establish the model's topography.\n",
        "my_model = create_model(\n",
        "    inputs,\n",
        "    dnn_outputs,\n",
        "    learning_rate)\n",
        "\n",
        "# Train the model on the normalized training set. We're passing the entire\n",
        "# normalized training set, but the model will only use the features\n",
        "# defined in our inputs.\n",
        "epochs, mse, history = train_model(my_model, train_df, epochs,\n",
        "                                   batch_size, label_name, validation_split)\n",
        "plot_the_loss_curve(epochs, mse, history[\"val_mean_squared_error\"])\n",
        "\n",
        "# After building a model against the training set, test that model\n",
        "# against the test set.\n",
        "test_features = {name:np.array(value) for name, value in test_df.items()}\n",
        "test_label = test_charges_normalized(np.array(test_features.pop(label_name))) # isolate the label\n",
        "print(\"\\n Evaluate the new model against the test set:\")\n",
        "my_model.evaluate(x = test_features, y = test_label, batch_size=batch_size, return_dict=True)"
      ],
      "metadata": {
        "colab": {
          "base_uri": "https://localhost:8080/",
          "height": 1000
        },
        "id": "jZ_V7hDCYkb7",
        "outputId": "ec97f843-8a4e-45e8-d961-57188a67ceb2"
      },
      "execution_count": null,
      "outputs": [
        {
          "output_type": "stream",
          "name": "stdout",
          "text": [
            "Epoch 1/20\n",
            "2/2 [==============================] - 1s 438ms/step - loss: 0.9966 - mean_squared_error: 0.9966 - val_loss: 1.0146 - val_mean_squared_error: 1.0146\n",
            "Epoch 2/20\n",
            "2/2 [==============================] - 0s 57ms/step - loss: 0.9963 - mean_squared_error: 0.9963 - val_loss: 1.0161 - val_mean_squared_error: 1.0161\n",
            "Epoch 3/20\n",
            "2/2 [==============================] - 0s 59ms/step - loss: 0.9962 - mean_squared_error: 0.9962 - val_loss: 1.0172 - val_mean_squared_error: 1.0172\n",
            "Epoch 4/20\n",
            "2/2 [==============================] - 0s 72ms/step - loss: 0.9961 - mean_squared_error: 0.9961 - val_loss: 1.0175 - val_mean_squared_error: 1.0175\n",
            "Epoch 5/20\n",
            "2/2 [==============================] - 0s 56ms/step - loss: 0.9961 - mean_squared_error: 0.9961 - val_loss: 1.0176 - val_mean_squared_error: 1.0176\n",
            "Epoch 6/20\n",
            "2/2 [==============================] - 0s 78ms/step - loss: 0.9961 - mean_squared_error: 0.9961 - val_loss: 1.0176 - val_mean_squared_error: 1.0176\n",
            "Epoch 7/20\n",
            "2/2 [==============================] - 0s 83ms/step - loss: 0.9961 - mean_squared_error: 0.9961 - val_loss: 1.0171 - val_mean_squared_error: 1.0171\n",
            "Epoch 8/20\n",
            "2/2 [==============================] - 0s 72ms/step - loss: 0.9961 - mean_squared_error: 0.9961 - val_loss: 1.0165 - val_mean_squared_error: 1.0165\n",
            "Epoch 9/20\n",
            "2/2 [==============================] - 0s 70ms/step - loss: 0.9961 - mean_squared_error: 0.9961 - val_loss: 1.0159 - val_mean_squared_error: 1.0159\n",
            "Epoch 10/20\n",
            "2/2 [==============================] - 0s 56ms/step - loss: 0.9961 - mean_squared_error: 0.9961 - val_loss: 1.0154 - val_mean_squared_error: 1.0154\n",
            "Epoch 11/20\n",
            "2/2 [==============================] - 0s 66ms/step - loss: 0.9962 - mean_squared_error: 0.9962 - val_loss: 1.0150 - val_mean_squared_error: 1.0150\n",
            "Epoch 12/20\n",
            "2/2 [==============================] - 0s 73ms/step - loss: 0.9962 - mean_squared_error: 0.9962 - val_loss: 1.0149 - val_mean_squared_error: 1.0149\n",
            "Epoch 13/20\n",
            "2/2 [==============================] - 0s 72ms/step - loss: 0.9963 - mean_squared_error: 0.9963 - val_loss: 1.0150 - val_mean_squared_error: 1.0150\n",
            "Epoch 14/20\n",
            "2/2 [==============================] - 0s 77ms/step - loss: 0.9962 - mean_squared_error: 0.9962 - val_loss: 1.0150 - val_mean_squared_error: 1.0150\n",
            "Epoch 15/20\n",
            "2/2 [==============================] - 0s 139ms/step - loss: 0.9962 - mean_squared_error: 0.9962 - val_loss: 1.0152 - val_mean_squared_error: 1.0152\n",
            "Epoch 16/20\n",
            "2/2 [==============================] - 0s 112ms/step - loss: 0.9962 - mean_squared_error: 0.9962 - val_loss: 1.0158 - val_mean_squared_error: 1.0158\n",
            "Epoch 17/20\n",
            "2/2 [==============================] - 0s 75ms/step - loss: 0.9961 - mean_squared_error: 0.9961 - val_loss: 1.0164 - val_mean_squared_error: 1.0164\n",
            "Epoch 18/20\n",
            "2/2 [==============================] - 0s 73ms/step - loss: 0.9961 - mean_squared_error: 0.9961 - val_loss: 1.0170 - val_mean_squared_error: 1.0170\n",
            "Epoch 19/20\n",
            "2/2 [==============================] - 0s 62ms/step - loss: 0.9961 - mean_squared_error: 0.9961 - val_loss: 1.0176 - val_mean_squared_error: 1.0176\n",
            "Epoch 20/20\n",
            "2/2 [==============================] - 0s 64ms/step - loss: 0.9961 - mean_squared_error: 0.9961 - val_loss: 1.0177 - val_mean_squared_error: 1.0177\n"
          ]
        },
        {
          "output_type": "display_data",
          "data": {
            "text/plain": [
              "<Figure size 640x480 with 1 Axes>"
            ],
            "image/png": "[encoded data removed]"
          },
          "metadata": {}
        },
        {
          "output_type": "stream",
          "name": "stdout",
          "text": [
            "\n",
            " Evaluate the new model against the test set:\n",
            "2/2 [==============================] - 0s 8ms/step - loss: 1.0004 - mean_squared_error: 1.0004\n"
          ]
        },
        {
          "output_type": "execute_result",
          "data": {
            "text/plain": [
              "{'loss': 1.0004442930221558, 'mean_squared_error': 1.0004442930221558}"
            ]
          },
          "metadata": {},
          "execution_count": 37
        }
      ]
    },
    {
      "cell_type": "code",
      "source": [
        "# @title Task 1, but it is RandomForestRegressor instead of baseline LinearRegressor\n",
        "from sklearn.ensemble import RandomForestRegressor\n",
        "\n",
        "from sklearn.model_selection import learning_curve\n",
        "import matplotlib.pyplot as plt\n",
        "\n",
        "X_train = train_df.iloc[:, :-1]\n",
        "X_test = test_df.iloc[:, :-1]\n",
        "Y_train = train_df.iloc[:, -1]\n",
        "Y_test = test_df.iloc[:, -1]\n",
        "\n",
        "# default n_estimator = 100\n",
        "model = RandomForestRegressor()\n",
        "train_sizes, train_scores, validation_scores = learning_curve(\n",
        "    model, X_train, Y_train,\n",
        "    scoring='neg_mean_squared_error')\n",
        "\n",
        "# Calculate the mean for training set scores\n",
        "train_scores_mean = -train_scores.mean(axis=1)\n",
        "\n",
        "# Calculate the mean for validation set scores\n",
        "validation_scores_mean = -validation_scores.mean(axis=1)\n",
        "\n",
        "# Plot the learning curve\n",
        "plt.figure(figsize=(16, 5))\n",
        "plt.subplot(1, 2, 1)\n",
        "plt.plot(train_sizes, train_scores_mean, label='Training error')\n",
        "plt.plot(train_sizes, validation_scores_mean, label='Validation error')\n",
        "plt.title('Learning Curves for Random Forest Regressor')\n",
        "plt.xlabel('Training Set Size')\n",
        "plt.ylabel('MSE')\n",
        "plt.legend(loc=\"best\")\n",
        "plt.show()"
      ],
      "metadata": {
        "colab": {
          "base_uri": "https://localhost:8080/",
          "height": 487
        },
        "id": "VIHdXZXyrzE1",
        "outputId": "ab24fda8-4f06-4cbc-b7f8-01cc5319cfa1"
      },
      "execution_count": null,
      "outputs": [
        {
          "output_type": "display_data",
          "data": {
            "text/plain": [
              "<Figure size 1600x500 with 1 Axes>"
            ],
            "image/png": "[encoded data removed]"
          },
          "metadata": {}
        }
      ]
    },
    {
      "cell_type": "code",
      "source": [
        "# @title Task 2 bro with everything already set;\n",
        "# trying out Multilayered (2 hidden layers) perceptron with 10, 6 nodes in hidden layer, 1 node in output.\n",
        "# input layer was set beforehand;\n",
        "# overfitting was considered to be performed over 1st layer in DNN.\n",
        "def get_outputs_dnn():\n",
        "  # Create a Dense layer with 10 nodes.\n",
        "  dense_output = tf.keras.layers.Dense(units=10,\n",
        "                              activation='relu',\n",
        "                              name='hidden_dense_layer_1')(preprocessing_layers)\n",
        "  # Dropout for sake of avoiding overfitting, where some of the neurons/nodes got turned off\n",
        "  dense_output = tf.keras.layers.Dropout(0.2) (dense_output)\n",
        "  # Create a Dense layer with 6 nodes.\n",
        "  dense_output = tf.keras.layers.Dense(units=6,\n",
        "                              activation='relu',\n",
        "                              name='hidden_dense_layer_2')(dense_output)\n",
        "  # Create the Dense output layer.\n",
        "  dense_output = tf.keras.layers.Dense(units=1,\n",
        "                              name='dense_output')(dense_output)\n",
        "\n",
        "  # Define an output dictionary we'll send to the model constructor.\n",
        "  outputs = {\n",
        "    'dense_output': dense_output\n",
        "  }\n",
        "\n",
        "  return outputs"
      ],
      "metadata": {
        "id": "YpuXJgmPXcHc"
      },
      "execution_count": null,
      "outputs": []
    },
    {
      "cell_type": "code",
      "source": [
        "# The following variables are the hyperparameters.\n",
        "learning_rate = 0.01\n",
        "epochs = 20\n",
        "batch_size = 1000\n",
        "\n",
        "# Specify the label\n",
        "label_name = \"charges\"\n",
        "\n",
        "# Split the original training set into a reduced training set and a\n",
        "# validation set.\n",
        "validation_split = 0.2\n",
        "\n",
        "dnn_outputs = get_outputs_dnn()\n",
        "\n",
        "# Establish the model's topography.\n",
        "my_model = create_model(\n",
        "    inputs,\n",
        "    dnn_outputs,\n",
        "    learning_rate)\n",
        "\n",
        "# Train the model on the normalized training set. We're passing the entire\n",
        "# normalized training set, but the model will only use the features\n",
        "# defined in our inputs.\n",
        "epochs, mse, history = train_model(my_model, train_df, epochs,\n",
        "                                   batch_size, label_name, validation_split)\n",
        "plot_the_loss_curve(epochs, mse, history[\"val_mean_squared_error\"])\n",
        "\n",
        "# After building a model against the training set, test that model\n",
        "# against the test set.\n",
        "test_features = {name:np.array(value) for name, value in test_df.items()}\n",
        "test_label = test_charges_normalized(np.array(test_features.pop(label_name))) # isolate the label\n",
        "# print(\"\\n Evaluate the new model against the test set:\")\n",
        "my_model.evaluate(x = test_features, y = test_label, batch_size=batch_size, return_dict=True)"
      ],
      "metadata": {
        "colab": {
          "base_uri": "https://localhost:8080/",
          "height": 1000
        },
        "id": "our-OKnhZ0JV",
        "outputId": "8ba2a35b-535f-49f9-8f2d-644ae96d576b"
      },
      "execution_count": null,
      "outputs": [
        {
          "output_type": "stream",
          "name": "stdout",
          "text": [
            "Epoch 1/20\n",
            "2/2 [==============================] - 1s 315ms/step - loss: 0.9962 - mean_squared_error: 0.9962 - val_loss: 1.0173 - val_mean_squared_error: 1.0173\n",
            "Epoch 2/20\n",
            "2/2 [==============================] - 0s 39ms/step - loss: 0.9962 - mean_squared_error: 0.9962 - val_loss: 1.0180 - val_mean_squared_error: 1.0180\n",
            "Epoch 3/20\n",
            "2/2 [==============================] - 0s 39ms/step - loss: 0.9961 - mean_squared_error: 0.9961 - val_loss: 1.0169 - val_mean_squared_error: 1.0169\n",
            "Epoch 4/20\n",
            "2/2 [==============================] - 0s 59ms/step - loss: 0.9960 - mean_squared_error: 0.9960 - val_loss: 1.0156 - val_mean_squared_error: 1.0156\n",
            "Epoch 5/20\n",
            "2/2 [==============================] - 0s 55ms/step - loss: 0.9962 - mean_squared_error: 0.9962 - val_loss: 1.0148 - val_mean_squared_error: 1.0148\n",
            "Epoch 6/20\n",
            "2/2 [==============================] - 0s 44ms/step - loss: 0.9963 - mean_squared_error: 0.9963 - val_loss: 1.0146 - val_mean_squared_error: 1.0146\n",
            "Epoch 7/20\n",
            "2/2 [==============================] - 0s 57ms/step - loss: 0.9964 - mean_squared_error: 0.9964 - val_loss: 1.0146 - val_mean_squared_error: 1.0146\n",
            "Epoch 8/20\n",
            "2/2 [==============================] - 0s 38ms/step - loss: 0.9964 - mean_squared_error: 0.9964 - val_loss: 1.0144 - val_mean_squared_error: 1.0144\n",
            "Epoch 9/20\n",
            "2/2 [==============================] - 0s 39ms/step - loss: 0.9965 - mean_squared_error: 0.9965 - val_loss: 1.0142 - val_mean_squared_error: 1.0142\n",
            "Epoch 10/20\n",
            "2/2 [==============================] - 0s 38ms/step - loss: 0.9965 - mean_squared_error: 0.9965 - val_loss: 1.0144 - val_mean_squared_error: 1.0144\n",
            "Epoch 11/20\n",
            "2/2 [==============================] - 0s 60ms/step - loss: 0.9964 - mean_squared_error: 0.9964 - val_loss: 1.0144 - val_mean_squared_error: 1.0144\n",
            "Epoch 12/20\n",
            "2/2 [==============================] - 0s 56ms/step - loss: 0.9964 - mean_squared_error: 0.9964 - val_loss: 1.0143 - val_mean_squared_error: 1.0143\n",
            "Epoch 13/20\n",
            "2/2 [==============================] - 0s 55ms/step - loss: 0.9965 - mean_squared_error: 0.9965 - val_loss: 1.0142 - val_mean_squared_error: 1.0142\n",
            "Epoch 14/20\n",
            "2/2 [==============================] - 0s 64ms/step - loss: 0.9965 - mean_squared_error: 0.9965 - val_loss: 1.0138 - val_mean_squared_error: 1.0138\n",
            "Epoch 15/20\n",
            "2/2 [==============================] - 0s 42ms/step - loss: 0.9967 - mean_squared_error: 0.9967 - val_loss: 1.0135 - val_mean_squared_error: 1.0135\n",
            "Epoch 16/20\n",
            "2/2 [==============================] - 0s 58ms/step - loss: 0.9969 - mean_squared_error: 0.9969 - val_loss: 1.0134 - val_mean_squared_error: 1.0134\n",
            "Epoch 17/20\n",
            "2/2 [==============================] - 0s 40ms/step - loss: 0.9970 - mean_squared_error: 0.9970 - val_loss: 1.0133 - val_mean_squared_error: 1.0133\n",
            "Epoch 18/20\n",
            "2/2 [==============================] - 0s 57ms/step - loss: 0.9970 - mean_squared_error: 0.9970 - val_loss: 1.0137 - val_mean_squared_error: 1.0137\n",
            "Epoch 19/20\n",
            "2/2 [==============================] - 0s 38ms/step - loss: 0.9969 - mean_squared_error: 0.9969 - val_loss: 1.0141 - val_mean_squared_error: 1.0141\n",
            "Epoch 20/20\n",
            "2/2 [==============================] - 0s 56ms/step - loss: 0.9965 - mean_squared_error: 0.9965 - val_loss: 1.0145 - val_mean_squared_error: 1.0145\n"
          ]
        },
        {
          "output_type": "display_data",
          "data": {
            "text/plain": [
              "<Figure size 640x480 with 1 Axes>"
            ],
            "image/png": "[encoded data removed]"
          },
          "metadata": {}
        },
        {
          "output_type": "stream",
          "name": "stdout",
          "text": [
            "2/2 [==============================] - 0s 8ms/step - loss: 1.0000 - mean_squared_error: 1.0000\n"
          ]
        },
        {
          "output_type": "execute_result",
          "data": {
            "text/plain": [
              "{'loss': 1.0000150203704834, 'mean_squared_error': 1.0000150203704834}"
            ]
          },
          "metadata": {},
          "execution_count": 51
        }
      ]
    }
  ],
  "metadata": {
    "accelerator": "GPU",
    "colab": {
      "gpuType": "T4",
      "provenance": [],
      "authorship_tag": "ABX9TyNeb771Wj3LrdL+SVRxBWVn",
      "include_colab_link": true
    },
    "kernelspec": {
      "display_name": "Python 3",
      "name": "python3"
    },
    "language_info": {
      "name": "python"
    }
  },
  "nbformat": 4,
  "nbformat_minor": 0
}